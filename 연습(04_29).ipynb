{
  "nbformat": 4,
  "nbformat_minor": 0,
  "metadata": {
    "colab": {
      "provenance": []
    },
    "kernelspec": {
      "name": "python3",
      "display_name": "Python 3"
    },
    "language_info": {
      "name": "python"
    }
  },
  "cells": [
    {
      "cell_type": "markdown",
      "source": [
        "# 논리연산"
      ],
      "metadata": {
        "id": "tN3HYbjHhMBc"
      }
    },
    {
      "cell_type": "code",
      "execution_count": 5,
      "metadata": {
        "colab": {
          "base_uri": "https://localhost:8080/"
        },
        "id": "VozByQFufNeo",
        "outputId": "838e69aa-4a3e-446e-f6c6-2970d28abdb3"
      },
      "outputs": [
        {
          "output_type": "stream",
          "name": "stdout",
          "text": [
            "0\n",
            "15\n",
            "30\n",
            "45\n",
            "60\n",
            "75\n",
            "90\n"
          ]
        }
      ],
      "source": [
        "for i in range(100):\n",
        "    if i % 3 ==0 and i % 5 == 0:\n",
        "      print(i)"
      ]
    },
    {
      "cell_type": "code",
      "source": [],
      "metadata": {
        "id": "aXjbKmt6hnZ2"
      },
      "execution_count": null,
      "outputs": []
    },
    {
      "cell_type": "markdown",
      "source": [
        "# 할당연산"
      ],
      "metadata": {
        "id": "YUsKagVwjGnw"
      }
    },
    {
      "cell_type": "code",
      "source": [
        "numA = 10\n",
        "numB = 20\n",
        "\n",
        "numA += numB\n",
        "\n",
        "print(\"numA:\", numA)\n",
        "print(\"numB:\", numB)"
      ],
      "metadata": {
        "colab": {
          "base_uri": "https://localhost:8080/"
        },
        "id": "vqT9UtWQhmiE",
        "outputId": "332ca292-cdb0-4719-d40c-b8c8a8d70d38"
      },
      "execution_count": 10,
      "outputs": [
        {
          "output_type": "stream",
          "name": "stdout",
          "text": [
            "numA: 30\n",
            "numB: 20\n"
          ]
        }
      ]
    },
    {
      "cell_type": "code",
      "source": [
        "coffe = \"Brand\"\n",
        "orange = \"Brand\"\n",
        "\n",
        "print(coffe is orange)\n",
        "print(coffe == orange)"
      ],
      "metadata": {
        "colab": {
          "base_uri": "https://localhost:8080/"
        },
        "id": "tcTbtt35jqrB",
        "outputId": "6b18b41b-f738-45b4-c10d-0e1bca689ba2"
      },
      "execution_count": 13,
      "outputs": [
        {
          "output_type": "stream",
          "name": "stdout",
          "text": [
            "True\n",
            "True\n"
          ]
        }
      ]
    },
    {
      "cell_type": "code",
      "source": [
        "a = [1, 2, 3]\n",
        "b = [1, 2, 3]\n",
        "c = a\n",
        "\n",
        "print('a == b', a == b)\n",
        "print('a == c', a == c)\n",
        "print('a is b', a is b)\n",
        "print('a is c', a is c)"
      ],
      "metadata": {
        "colab": {
          "base_uri": "https://localhost:8080/"
        },
        "id": "Cd3x04VxkMgq",
        "outputId": "c3a3dc11-ceef-4b7c-da44-1b441583cb14"
      },
      "execution_count": 14,
      "outputs": [
        {
          "output_type": "stream",
          "name": "stdout",
          "text": [
            "a == b True\n",
            "a == c True\n",
            "a is b False\n",
            "a is c True\n"
          ]
        }
      ]
    },
    {
      "cell_type": "code",
      "source": [],
      "metadata": {
        "id": "psQsE1FHkMDJ"
      },
      "execution_count": null,
      "outputs": []
    }
  ]
}